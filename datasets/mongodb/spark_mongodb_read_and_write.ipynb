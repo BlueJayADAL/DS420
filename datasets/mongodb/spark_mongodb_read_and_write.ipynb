{
 "cells": [
  {
   "cell_type": "markdown",
   "id": "7fa1893d",
   "metadata": {},
   "source": [
    "# Demo: Use Spark to Load Data from MongoDB and Save the Processed Data Back to MongoDB"
   ]
  },
  {
   "cell_type": "code",
   "execution_count": null,
   "id": "63fbc602",
   "metadata": {},
   "outputs": [],
   "source": [
    "# Use findspark package to tell jupyter notebook\n",
    "# about the Spark installation path on the server\n",
    "import findspark\n",
    "findspark.init('/opt/spark')"
   ]
  },
  {
   "cell_type": "code",
   "execution_count": null,
   "id": "7c9789ea",
   "metadata": {},
   "outputs": [],
   "source": [
    "# Import SparkSession Class\n",
    "# Every spark job has to be in a Spark Session\n",
    "from pyspark.sql import SparkSession"
   ]
  },
  {
   "cell_type": "code",
   "execution_count": null,
   "id": "977fcd91",
   "metadata": {},
   "outputs": [],
   "source": [
    "# URLs for the input and output db.collection\n",
    "input_uri = 'mongodb://127.0.0.1/movielens.users'\n",
    "output_uri = 'mongodb://127.0.0.1/movielensAnalysis.youngUsers'"
   ]
  },
  {
   "cell_type": "code",
   "execution_count": null,
   "id": "7f0bcb46",
   "metadata": {},
   "outputs": [],
   "source": [
    "# Create a Spark Session object which specifies:\n",
    "# 1. the Spark application's name\n",
    "# 2. the URLS to the input and output databases\n",
    "# 3. the mongodb to spark connector (a jar file)\n",
    "\n",
    "my_spark = SparkSession\\\n",
    "    .builder\\\n",
    "    .appName(\"MongodbSparkConnectorDemo\")\\\n",
    "    .config(\"spark.mongodb.input.uri\", input_uri)\\\n",
    "    .config(\"spark.mongodb.output.uri\", output_uri)\\\n",
    "    .config('spark.jars.packages','org.mongodb.spark:mongo-spark-connector_2.12:3.0.0')\\\n",
    "    .getOrCreate()"
   ]
  },
  {
   "cell_type": "code",
   "execution_count": null,
   "id": "4871886f",
   "metadata": {},
   "outputs": [],
   "source": [
    "# Load the data from the specified input database to a DataFrame \n",
    "df = my_spark.read.format('com.mongodb.spark.sql.DefaultSource').load()\n",
    "\n",
    "df.show()"
   ]
  },
  {
   "cell_type": "code",
   "execution_count": null,
   "id": "27987bea",
   "metadata": {},
   "outputs": [],
   "source": [
    "# Run some simple queries on the DataFrame and display the results\n",
    "youngUsers = df.filter(\"_c1 < 20\")\n",
    "youngUsers.show()"
   ]
  },
  {
   "cell_type": "code",
   "execution_count": null,
   "id": "bd729b47",
   "metadata": {},
   "outputs": [],
   "source": [
    "# Save the queried results to a new database\n",
    "youngUsers.write\\\n",
    "        .format(\"com.mongodb.spark.sql.DefaultSource\")\\\n",
    "        .option(\"uri\", output_uri)\\\n",
    "        .mode('overwrite')\\  # Use 'append' if you will\n",
    "        .save()"
   ]
  },
  {
   "cell_type": "markdown",
   "id": "c4d504fa",
   "metadata": {},
   "source": [
    "# Great job!"
   ]
  }
 ],
 "metadata": {
  "kernelspec": {
   "display_name": "Python 3 (ipykernel)",
   "language": "python",
   "name": "python3"
  },
  "language_info": {
   "codemirror_mode": {
    "name": "ipython",
    "version": 3
   },
   "file_extension": ".py",
   "mimetype": "text/x-python",
   "name": "python",
   "nbconvert_exporter": "python",
   "pygments_lexer": "ipython3",
   "version": "3.7.13"
  }
 },
 "nbformat": 4,
 "nbformat_minor": 5
}
