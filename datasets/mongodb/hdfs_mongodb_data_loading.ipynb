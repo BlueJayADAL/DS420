{
 "cells": [
  {
   "cell_type": "markdown",
   "id": "4aae3785",
   "metadata": {},
   "source": [
    "# Demo: Use Spark to Load Data from HDFS and Export the Data to a MongoDB"
   ]
  },
  {
   "cell_type": "code",
   "execution_count": null,
   "id": "6a791f62",
   "metadata": {},
   "outputs": [],
   "source": [
    "# Use findspark package to tell jupyter notebook\n",
    "# about the Spark installation path on the server\n",
    "import findspark\n",
    "findspark.init('/opt/spark')"
   ]
  },
  {
   "cell_type": "code",
   "execution_count": null,
   "id": "24a2d83c",
   "metadata": {},
   "outputs": [],
   "source": [
    "# Import SparkSession Class\n",
    "# Every spark job has to be in a Spark Session\n",
    "from pyspark.sql import SparkSession"
   ]
  },
  {
   "cell_type": "code",
   "execution_count": null,
   "id": "4a7653de",
   "metadata": {},
   "outputs": [],
   "source": [
    "# URLs for the input and output db.collection\n",
    "input_uri = 'hdfs://127.0.0.1:9000/user/lip/ds420/u.user'\n",
    "output_uri = 'mongodb://127.0.0.1/movielens.users'"
   ]
  },
  {
   "cell_type": "code",
   "execution_count": null,
   "id": "e9086588",
   "metadata": {},
   "outputs": [],
   "source": [
    "# Create a Spark Session object which specifies:\n",
    "# 1. the Spark application's name\n",
    "# 2. the URLS to the input and output databases\n",
    "# 3. the mongodb to spark connector (a jar file)\n",
    "\n",
    "my_spark = SparkSession\\\n",
    "    .builder\\\n",
    "    .appName(\"HDFSToMongoDB\")\\\n",
    "    .config('spark.jars.packages','org.mongodb.spark:mongo-spark-connector_2.12:3.0.0')\\\n",
    "    .getOrCreate()"
   ]
  },
  {
   "cell_type": "code",
   "execution_count": null,
   "id": "ab8dd785",
   "metadata": {},
   "outputs": [],
   "source": [
    "# Load the data from the specified input database to a DataFrame\n",
    "df = my_spark.read.option(\"sep\", \"|\").csv(input_uri)\n",
    "\n",
    "\n",
    "df.show()"
   ]
  },
  {
   "cell_type": "code",
   "execution_count": null,
   "id": "162073eb",
   "metadata": {},
   "outputs": [],
   "source": [
    "# Save the queried results to a new database\n",
    "df.write\\\n",
    "  .format(\"com.mongodb.spark.sql.DefaultSource\")\\\n",
    "  .option(\"uri\", output_uri)\\\n",
    "  .mode('overwrite')\\\n",
    "  .save()"
   ]
  },
  {
   "cell_type": "markdown",
   "id": "0a86077d",
   "metadata": {},
   "source": [
    "# Great job!"
   ]
  }
 ],
 "metadata": {
  "kernelspec": {
   "display_name": "Python 3 (ipykernel)",
   "language": "python",
   "name": "python3"
  },
  "language_info": {
   "codemirror_mode": {
    "name": "ipython",
    "version": 3
   },
   "file_extension": ".py",
   "mimetype": "text/x-python",
   "name": "python",
   "nbconvert_exporter": "python",
   "pygments_lexer": "ipython3",
   "version": "3.7.13"
  }
 },
 "nbformat": 4,
 "nbformat_minor": 5
}
